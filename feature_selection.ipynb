{
 "cells": [
  {
   "cell_type": "code",
   "execution_count": 1,
   "metadata": {},
   "outputs": [],
   "source": [
    "import pandas as pd\n",
    "import numpy as np\n",
    "\n",
    "import matplotlib.pyplot as plt\n",
    "import seaborn as sns\n",
    "%matplotlib inline\n",
    "\n",
    "import random"
   ]
  },
  {
   "cell_type": "markdown",
   "metadata": {},
   "source": [
    "### 1 Python"
   ]
  },
  {
   "cell_type": "markdown",
   "metadata": {},
   "source": [
    "#### 1.1"
   ]
  },
  {
   "cell_type": "code",
   "execution_count": 2,
   "metadata": {
    "scrolled": true
   },
   "outputs": [
    {
     "data": {
      "text/plain": [
       "[[53.08, 32.58, 56.4, 58.16, 79.32, 24.1, 5.47, 86.96, 70.63, 29.47],\n",
       " [32.87, 18.7, 54.67, 38.36, 13.58, 8.15, 31.57, 67.2, 88.32, 80.37],\n",
       " [75.71, 7.36, 84.83, 39.82, 1.39, 100.44, 68.72, 97.62, 0.82, 60.28],\n",
       " [68.38, 29.27, 17.51, 19.35, 64.13, 93.06, 29.7, 60.95, 26.37, 0.72],\n",
       " [19.39, 50.22, 34.37, 76.95, 77.79, 77.23, 39.93, 69.32, 80.18, 42.03],\n",
       " [33.23, 52.86, 41.91, 52.05, 84.28, 52.54, 5.64, 70.31, 36.39, 36.26],\n",
       " [45.6, 67.2, 1.71, 63.22, 83.21, 44.65, 1.73, 35.39, 21.48, 73.51]]"
      ]
     },
     "execution_count": 2,
     "metadata": {},
     "output_type": "execute_result"
    }
   ],
   "source": [
    "def random_matrix(n_rows, n_cols):\n",
    "    return [[round(random.uniform(0, 101), 2) for i in range(n_rows)] for i in range(n_cols)]\n",
    "\n",
    "RANDOM_MATRIX = random_matrix(10, 7)\n",
    "RANDOM_MATRIX"
   ]
  },
  {
   "cell_type": "markdown",
   "metadata": {},
   "source": [
    "#### 1.2"
   ]
  },
  {
   "cell_type": "code",
   "execution_count": 3,
   "metadata": {
    "scrolled": true
   },
   "outputs": [
    {
     "data": {
      "text/html": [
       "<div>\n",
       "<style scoped>\n",
       "    .dataframe tbody tr th:only-of-type {\n",
       "        vertical-align: middle;\n",
       "    }\n",
       "\n",
       "    .dataframe tbody tr th {\n",
       "        vertical-align: top;\n",
       "    }\n",
       "\n",
       "    .dataframe thead th {\n",
       "        text-align: right;\n",
       "    }\n",
       "</style>\n",
       "<table border=\"1\" class=\"dataframe\">\n",
       "  <thead>\n",
       "    <tr style=\"text-align: right;\">\n",
       "      <th></th>\n",
       "      <th>m</th>\n",
       "      <th>t</th>\n",
       "      <th>w</th>\n",
       "      <th>th</th>\n",
       "      <th>f</th>\n",
       "      <th>sa</th>\n",
       "      <th>su</th>\n",
       "    </tr>\n",
       "  </thead>\n",
       "  <tbody>\n",
       "    <tr>\n",
       "      <th>0</th>\n",
       "      <td>53.08</td>\n",
       "      <td>32.87</td>\n",
       "      <td>75.71</td>\n",
       "      <td>68.38</td>\n",
       "      <td>19.39</td>\n",
       "      <td>33.23</td>\n",
       "      <td>45.60</td>\n",
       "    </tr>\n",
       "    <tr>\n",
       "      <th>1</th>\n",
       "      <td>32.58</td>\n",
       "      <td>18.70</td>\n",
       "      <td>7.36</td>\n",
       "      <td>29.27</td>\n",
       "      <td>50.22</td>\n",
       "      <td>52.86</td>\n",
       "      <td>67.20</td>\n",
       "    </tr>\n",
       "    <tr>\n",
       "      <th>2</th>\n",
       "      <td>56.40</td>\n",
       "      <td>54.67</td>\n",
       "      <td>84.83</td>\n",
       "      <td>17.51</td>\n",
       "      <td>34.37</td>\n",
       "      <td>41.91</td>\n",
       "      <td>1.71</td>\n",
       "    </tr>\n",
       "    <tr>\n",
       "      <th>3</th>\n",
       "      <td>58.16</td>\n",
       "      <td>38.36</td>\n",
       "      <td>39.82</td>\n",
       "      <td>19.35</td>\n",
       "      <td>76.95</td>\n",
       "      <td>52.05</td>\n",
       "      <td>63.22</td>\n",
       "    </tr>\n",
       "    <tr>\n",
       "      <th>4</th>\n",
       "      <td>79.32</td>\n",
       "      <td>13.58</td>\n",
       "      <td>1.39</td>\n",
       "      <td>64.13</td>\n",
       "      <td>77.79</td>\n",
       "      <td>84.28</td>\n",
       "      <td>83.21</td>\n",
       "    </tr>\n",
       "    <tr>\n",
       "      <th>5</th>\n",
       "      <td>24.10</td>\n",
       "      <td>8.15</td>\n",
       "      <td>100.44</td>\n",
       "      <td>93.06</td>\n",
       "      <td>77.23</td>\n",
       "      <td>52.54</td>\n",
       "      <td>44.65</td>\n",
       "    </tr>\n",
       "    <tr>\n",
       "      <th>6</th>\n",
       "      <td>5.47</td>\n",
       "      <td>31.57</td>\n",
       "      <td>68.72</td>\n",
       "      <td>29.70</td>\n",
       "      <td>39.93</td>\n",
       "      <td>5.64</td>\n",
       "      <td>1.73</td>\n",
       "    </tr>\n",
       "    <tr>\n",
       "      <th>7</th>\n",
       "      <td>86.96</td>\n",
       "      <td>67.20</td>\n",
       "      <td>97.62</td>\n",
       "      <td>60.95</td>\n",
       "      <td>69.32</td>\n",
       "      <td>70.31</td>\n",
       "      <td>35.39</td>\n",
       "    </tr>\n",
       "    <tr>\n",
       "      <th>8</th>\n",
       "      <td>70.63</td>\n",
       "      <td>88.32</td>\n",
       "      <td>0.82</td>\n",
       "      <td>26.37</td>\n",
       "      <td>80.18</td>\n",
       "      <td>36.39</td>\n",
       "      <td>21.48</td>\n",
       "    </tr>\n",
       "    <tr>\n",
       "      <th>9</th>\n",
       "      <td>29.47</td>\n",
       "      <td>80.37</td>\n",
       "      <td>60.28</td>\n",
       "      <td>0.72</td>\n",
       "      <td>42.03</td>\n",
       "      <td>36.26</td>\n",
       "      <td>73.51</td>\n",
       "    </tr>\n",
       "  </tbody>\n",
       "</table>\n",
       "</div>"
      ],
      "text/plain": [
       "       m      t       w     th      f     sa     su\n",
       "0  53.08  32.87   75.71  68.38  19.39  33.23  45.60\n",
       "1  32.58  18.70    7.36  29.27  50.22  52.86  67.20\n",
       "2  56.40  54.67   84.83  17.51  34.37  41.91   1.71\n",
       "3  58.16  38.36   39.82  19.35  76.95  52.05  63.22\n",
       "4  79.32  13.58    1.39  64.13  77.79  84.28  83.21\n",
       "5  24.10   8.15  100.44  93.06  77.23  52.54  44.65\n",
       "6   5.47  31.57   68.72  29.70  39.93   5.64   1.73\n",
       "7  86.96  67.20   97.62  60.95  69.32  70.31  35.39\n",
       "8  70.63  88.32    0.82  26.37  80.18  36.39  21.48\n",
       "9  29.47  80.37   60.28   0.72  42.03  36.26  73.51"
      ]
     },
     "execution_count": 3,
     "metadata": {},
     "output_type": "execute_result"
    }
   ],
   "source": [
    "mydict = {\"m\":[], \"t\":[], \"w\":[], \"th\":[], \"f\":[], \"sa\":[], \"su\":[]}\n",
    "for i, k in zip(RANDOM_MATRIX, mydict):\n",
    "    mydict[k] = i\n",
    "pd.DataFrame(mydict)"
   ]
  },
  {
   "cell_type": "markdown",
   "metadata": {},
   "source": [
    "#### 1.3"
   ]
  },
  {
   "cell_type": "code",
   "execution_count": 4,
   "metadata": {},
   "outputs": [
    {
     "data": {
      "text/plain": [
       "dtype('<U21')"
      ]
     },
     "execution_count": 4,
     "metadata": {},
     "output_type": "execute_result"
    }
   ],
   "source": [
    "a = np.random.randint(0, 101, size=(1, 10))\n",
    "a.dtype  #check data type of array it should show int\n",
    "\n",
    "\n",
    "new = a.astype(str)  #change data type of array to string\n",
    "new.dtype  #Check the data type again it should show string"
   ]
  },
  {
   "cell_type": "code",
   "execution_count": 5,
   "metadata": {
    "scrolled": true
   },
   "outputs": [
    {
     "data": {
      "text/plain": [
       "[array([[  1,  85,  38, 100,  59,  29,  10,  75,   4,  66]]),\n",
       " array([['1', '85', '38', '100', '59', '29', '10', '75', '4', '66']],\n",
       "       dtype='<U21')]"
      ]
     },
     "execution_count": 5,
     "metadata": {},
     "output_type": "execute_result"
    }
   ],
   "source": [
    "[a]+[new]"
   ]
  },
  {
   "cell_type": "markdown",
   "metadata": {},
   "source": [
    "#### 1.4"
   ]
  },
  {
   "cell_type": "code",
   "execution_count": 6,
   "metadata": {
    "scrolled": true
   },
   "outputs": [
    {
     "data": {
      "text/plain": [
       "[array([ 0.19218966, -0.55596476,  0.31335418,  0.37758597,  1.14982732,\n",
       "        -0.86544522, -1.54535335,  1.42865169,  0.83268283, -0.66946526]),\n",
       " array([-0.54538111, -1.06252004,  0.25021725, -0.34502171, -1.24937617,\n",
       "        -1.44754585, -0.59282505,  0.70750383,  1.47828535,  1.18814742]),\n",
       " array([ 1.01807915, -1.47637717,  1.35091662, -0.29173851, -1.69425433,\n",
       "         1.92060884,  0.76297674,  1.81769199, -1.71505667,  0.45495609]),\n",
       " array([ 0.75056832, -0.67676432, -1.10594949, -1.03879807,  0.59546314,\n",
       "         1.65127325, -0.66107133,  0.47940797, -0.7826008 , -1.71870621]),\n",
       " array([-1.03733826,  0.087813  , -0.4906381 ,  1.06333337,  1.09398945,\n",
       "         1.07355206, -0.28772403,  0.78487394,  1.18121331, -0.21108382]),\n",
       " array([-0.53224279,  0.18416069, -0.21546326,  0.15459946,  1.33084419,\n",
       "         0.17248218, -1.53914915,  0.82100432, -0.41691752, -0.42166192]),\n",
       " array([-0.08079546,  0.70750383, -1.68257582,  0.56225238,  1.29179418,\n",
       "        -0.11546603, -1.68184592, -0.45341286, -0.961063  ,  0.9377894 ])]"
      ]
     },
     "execution_count": 6,
     "metadata": {},
     "output_type": "execute_result"
    }
   ],
   "source": [
    "[(e-np.mean(RANDOM_MATRIX))/np.std(RANDOM_MATRIX) for e in RANDOM_MATRIX]"
   ]
  },
  {
   "cell_type": "markdown",
   "metadata": {},
   "source": [
    "#### 1.5"
   ]
  },
  {
   "cell_type": "code",
   "execution_count": 7,
   "metadata": {},
   "outputs": [
    {
     "data": {
      "text/plain": [
       "[0.9377894044871352,\n",
       " 0.8326828326588969,\n",
       " 0.8210043246779818,\n",
       " 0.7848739406120246,\n",
       " 0.7629767381478086,\n",
       " 0.750568323418086,\n",
       " 0.707503825238461,\n",
       " 0.707503825238461,\n",
       " 0.5954631392965544,\n",
       " 0.5622523822258265,\n",
       " 0.4794079662362085,\n",
       " 0.454956090151167,\n",
       " 0.3775859747776028,\n",
       " 0.31335418088256856,\n",
       " 0.25021724711074517,\n",
       " 0.19218966058057205,\n",
       " 0.1841606863436928,\n",
       " 0.17248217836277746,\n",
       " 0.15459946301700078,\n",
       " 0.08781299550114133,\n",
       " -0.08079546347332361,\n",
       " -0.1154660340416661,\n",
       " -0.21108381813541024,\n",
       " -0.21546325862825366,\n",
       " -0.2877240267601671,\n",
       " -0.2917385138786068,\n",
       " -0.34502170654153297,\n",
       " -0.4169175212990429,\n",
       " -0.42166191516628987,\n",
       " -0.4534128587394033,\n",
       " -0.490638102928571,\n",
       " -0.5322427876105819,\n",
       " -0.5453811090891116,\n",
       " -0.5559647569468161,\n",
       " -0.5928250477615801,\n",
       " -0.661071328775054,\n",
       " -0.6694652563863369,\n",
       " -0.676764323874409,\n",
       " -0.782600802451454,\n",
       " -0.8654452184410721,\n",
       " -0.9610630025348165]"
      ]
     },
     "execution_count": 7,
     "metadata": {},
     "output_type": "execute_result"
    }
   ],
   "source": [
    "sorted([(i-np.mean(RANDOM_MATRIX))/np.std(RANDOM_MATRIX) for e in RANDOM_MATRIX for i in e if -1<(i-np.mean(RANDOM_MATRIX))/np.std(RANDOM_MATRIX)<1], reverse=True)"
   ]
  },
  {
   "cell_type": "markdown",
   "metadata": {},
   "source": [
    "### 2. Histogram"
   ]
  },
  {
   "cell_type": "code",
   "execution_count": 8,
   "metadata": {},
   "outputs": [],
   "source": [
    "V1 = random.choices(range(1, 11), k=100)\n",
    "V2 = random.choices(range(11, 21), k=100)\n",
    "UNION = V1+V2"
   ]
  },
  {
   "cell_type": "code",
   "execution_count": 9,
   "metadata": {},
   "outputs": [],
   "source": [
    "df = pd.DataFrame(UNION, columns=[\"S1\"])\n",
    "VALS = [5, 6, 8, 14, 16, 19]\n",
    "df_data = df[[\"S1\"]][df.S1.isin(VALS)]"
   ]
  },
  {
   "cell_type": "code",
   "execution_count": 10,
   "metadata": {
    "scrolled": false
   },
   "outputs": [
    {
     "data": {
      "text/html": [
       "<div>\n",
       "<style scoped>\n",
       "    .dataframe tbody tr th:only-of-type {\n",
       "        vertical-align: middle;\n",
       "    }\n",
       "\n",
       "    .dataframe tbody tr th {\n",
       "        vertical-align: top;\n",
       "    }\n",
       "\n",
       "    .dataframe thead th {\n",
       "        text-align: right;\n",
       "    }\n",
       "</style>\n",
       "<table border=\"1\" class=\"dataframe\">\n",
       "  <thead>\n",
       "    <tr style=\"text-align: right;\">\n",
       "      <th></th>\n",
       "      <th>S1</th>\n",
       "    </tr>\n",
       "  </thead>\n",
       "  <tbody>\n",
       "    <tr>\n",
       "      <th>0</th>\n",
       "      <td>5</td>\n",
       "    </tr>\n",
       "    <tr>\n",
       "      <th>1</th>\n",
       "      <td>5</td>\n",
       "    </tr>\n",
       "    <tr>\n",
       "      <th>3</th>\n",
       "      <td>8</td>\n",
       "    </tr>\n",
       "    <tr>\n",
       "      <th>4</th>\n",
       "      <td>6</td>\n",
       "    </tr>\n",
       "    <tr>\n",
       "      <th>7</th>\n",
       "      <td>8</td>\n",
       "    </tr>\n",
       "  </tbody>\n",
       "</table>\n",
       "</div>"
      ],
      "text/plain": [
       "   S1\n",
       "0   5\n",
       "1   5\n",
       "3   8\n",
       "4   6\n",
       "7   8"
      ]
     },
     "execution_count": 10,
     "metadata": {},
     "output_type": "execute_result"
    }
   ],
   "source": [
    "df_data.head()"
   ]
  },
  {
   "cell_type": "markdown",
   "metadata": {},
   "source": [
    "#### 2.1"
   ]
  },
  {
   "cell_type": "code",
   "execution_count": 11,
   "metadata": {
    "scrolled": true
   },
   "outputs": [
    {
     "data": {
      "text/html": [
       "<div>\n",
       "<style scoped>\n",
       "    .dataframe tbody tr th:only-of-type {\n",
       "        vertical-align: middle;\n",
       "    }\n",
       "\n",
       "    .dataframe tbody tr th {\n",
       "        vertical-align: top;\n",
       "    }\n",
       "\n",
       "    .dataframe thead th {\n",
       "        text-align: right;\n",
       "    }\n",
       "</style>\n",
       "<table border=\"1\" class=\"dataframe\">\n",
       "  <thead>\n",
       "    <tr style=\"text-align: right;\">\n",
       "      <th></th>\n",
       "      <th>col</th>\n",
       "    </tr>\n",
       "    <tr>\n",
       "      <th>S1</th>\n",
       "      <th></th>\n",
       "    </tr>\n",
       "  </thead>\n",
       "  <tbody>\n",
       "    <tr>\n",
       "      <th>5</th>\n",
       "      <td>12</td>\n",
       "    </tr>\n",
       "    <tr>\n",
       "      <th>6</th>\n",
       "      <td>11</td>\n",
       "    </tr>\n",
       "    <tr>\n",
       "      <th>14</th>\n",
       "      <td>11</td>\n",
       "    </tr>\n",
       "    <tr>\n",
       "      <th>8</th>\n",
       "      <td>9</td>\n",
       "    </tr>\n",
       "    <tr>\n",
       "      <th>19</th>\n",
       "      <td>8</td>\n",
       "    </tr>\n",
       "    <tr>\n",
       "      <th>16</th>\n",
       "      <td>7</td>\n",
       "    </tr>\n",
       "  </tbody>\n",
       "</table>\n",
       "</div>"
      ],
      "text/plain": [
       "    col\n",
       "S1     \n",
       "5    12\n",
       "6    11\n",
       "14   11\n",
       "8     9\n",
       "19    8\n",
       "16    7"
      ]
     },
     "execution_count": 11,
     "metadata": {},
     "output_type": "execute_result"
    }
   ],
   "source": [
    "ORDER = df_data.groupby(\"S1\").agg({\"S1\":\"count\"}).rename(columns={\"S1\":\"col\"}).sort_values(by=[\"col\"], ascending=False)\n",
    "ORDER"
   ]
  },
  {
   "cell_type": "markdown",
   "metadata": {},
   "source": [
    "#### 2.2"
   ]
  },
  {
   "cell_type": "code",
   "execution_count": 12,
   "metadata": {
    "scrolled": true
   },
   "outputs": [
    {
     "data": {
      "image/png": "[encoded data removed]",
      "text/plain": [
       "<Figure size 432x288 with 1 Axes>"
      ]
     },
     "metadata": {
      "needs_background": "light"
     },
     "output_type": "display_data"
    }
   ],
   "source": [
    "plt.bar(ORDER.index, ORDER.col, color=\"b\", width=0.75)\n",
    "plt.title(\"Histograma\")\n",
    "plt.xlabel(\"Labels\")\n",
    "plt.show()"
   ]
  },
  {
   "cell_type": "markdown",
   "metadata": {},
   "source": [
    "#### 2.3"
   ]
  },
  {
   "cell_type": "code",
   "execution_count": 13,
   "metadata": {},
   "outputs": [
    {
     "data": {
      "image/png": "[encoded data removed]",
      "text/plain": [
       "<Figure size 432x288 with 1 Axes>"
      ]
     },
     "metadata": {
      "needs_background": "light"
     },
     "output_type": "display_data"
    }
   ],
   "source": [
    "df_data.groupby(\"S1\").agg({\"S1\":\"count\"}).rename(columns={\"S1\":\"col\"}).sort_values(by=[\"col\"], ascending=False)[:3].plot(kind=\"bar\")\n",
    "plt.show()"
   ]
  },
  {
   "cell_type": "markdown",
   "metadata": {},
   "source": [
    "### 3. ML"
   ]
  },
  {
   "cell_type": "code",
   "execution_count": 14,
   "metadata": {
    "scrolled": true
   },
   "outputs": [
    {
     "name": "stdout",
     "output_type": "stream",
     "text": [
      "(25827, 23)\n"
     ]
    },
    {
     "data": {
      "text/html": [
       "<div>\n",
       "<style scoped>\n",
       "    .dataframe tbody tr th:only-of-type {\n",
       "        vertical-align: middle;\n",
       "    }\n",
       "\n",
       "    .dataframe tbody tr th {\n",
       "        vertical-align: top;\n",
       "    }\n",
       "\n",
       "    .dataframe thead th {\n",
       "        text-align: right;\n",
       "    }\n",
       "</style>\n",
       "<table border=\"1\" class=\"dataframe\">\n",
       "  <thead>\n",
       "    <tr style=\"text-align: right;\">\n",
       "      <th></th>\n",
       "      <th>target</th>\n",
       "      <th>var1</th>\n",
       "      <th>var2</th>\n",
       "      <th>var3</th>\n",
       "      <th>var4</th>\n",
       "      <th>var5</th>\n",
       "      <th>var6</th>\n",
       "      <th>var7</th>\n",
       "      <th>var8</th>\n",
       "      <th>var9</th>\n",
       "      <th>...</th>\n",
       "      <th>var13</th>\n",
       "      <th>var14</th>\n",
       "      <th>var15</th>\n",
       "      <th>var16</th>\n",
       "      <th>var17</th>\n",
       "      <th>var18</th>\n",
       "      <th>var19</th>\n",
       "      <th>var20</th>\n",
       "      <th>var21</th>\n",
       "      <th>var22</th>\n",
       "    </tr>\n",
       "  </thead>\n",
       "  <tbody>\n",
       "    <tr>\n",
       "      <th>0</th>\n",
       "      <td>1</td>\n",
       "      <td>1</td>\n",
       "      <td>61</td>\n",
       "      <td>0.0</td>\n",
       "      <td>0.0</td>\n",
       "      <td>0.0</td>\n",
       "      <td>165.5</td>\n",
       "      <td>0.05625</td>\n",
       "      <td>1.0</td>\n",
       "      <td>-0.198475</td>\n",
       "      <td>...</td>\n",
       "      <td>0.000000</td>\n",
       "      <td>0</td>\n",
       "      <td>0.0</td>\n",
       "      <td>0</td>\n",
       "      <td>0.0</td>\n",
       "      <td>0.000000</td>\n",
       "      <td>0.000000</td>\n",
       "      <td>0.000000</td>\n",
       "      <td>0.000000</td>\n",
       "      <td>0.000000</td>\n",
       "    </tr>\n",
       "    <tr>\n",
       "      <th>1</th>\n",
       "      <td>0</td>\n",
       "      <td>164</td>\n",
       "      <td>58</td>\n",
       "      <td>0.0</td>\n",
       "      <td>0.0</td>\n",
       "      <td>0.0</td>\n",
       "      <td>0.0</td>\n",
       "      <td>0.00000</td>\n",
       "      <td>1.0</td>\n",
       "      <td>-0.341181</td>\n",
       "      <td>...</td>\n",
       "      <td>2.333333</td>\n",
       "      <td>4</td>\n",
       "      <td>1.0</td>\n",
       "      <td>0</td>\n",
       "      <td>8400.0</td>\n",
       "      <td>2780.186523</td>\n",
       "      <td>5608.359863</td>\n",
       "      <td>3172.283203</td>\n",
       "      <td>3689.523438</td>\n",
       "      <td>11.333333</td>\n",
       "    </tr>\n",
       "    <tr>\n",
       "      <th>2</th>\n",
       "      <td>1</td>\n",
       "      <td>61</td>\n",
       "      <td>60</td>\n",
       "      <td>0.0</td>\n",
       "      <td>0.0</td>\n",
       "      <td>0.0</td>\n",
       "      <td>0.0</td>\n",
       "      <td>0.00000</td>\n",
       "      <td>1.0</td>\n",
       "      <td>-0.078947</td>\n",
       "      <td>...</td>\n",
       "      <td>2.000000</td>\n",
       "      <td>2</td>\n",
       "      <td>3.0</td>\n",
       "      <td>0</td>\n",
       "      <td>0.0</td>\n",
       "      <td>0.000000</td>\n",
       "      <td>0.000000</td>\n",
       "      <td>0.000000</td>\n",
       "      <td>0.000000</td>\n",
       "      <td>5.500000</td>\n",
       "    </tr>\n",
       "    <tr>\n",
       "      <th>3</th>\n",
       "      <td>0</td>\n",
       "      <td>108</td>\n",
       "      <td>49</td>\n",
       "      <td>0.0</td>\n",
       "      <td>0.0</td>\n",
       "      <td>0.0</td>\n",
       "      <td>0.0</td>\n",
       "      <td>0.00000</td>\n",
       "      <td>1.0</td>\n",
       "      <td>-0.924464</td>\n",
       "      <td>...</td>\n",
       "      <td>3.666667</td>\n",
       "      <td>4</td>\n",
       "      <td>2.0</td>\n",
       "      <td>0</td>\n",
       "      <td>67320.0</td>\n",
       "      <td>0.000000</td>\n",
       "      <td>0.000000</td>\n",
       "      <td>0.000000</td>\n",
       "      <td>2168.733398</td>\n",
       "      <td>8.500000</td>\n",
       "    </tr>\n",
       "    <tr>\n",
       "      <th>4</th>\n",
       "      <td>0</td>\n",
       "      <td>157</td>\n",
       "      <td>74</td>\n",
       "      <td>0.0</td>\n",
       "      <td>0.0</td>\n",
       "      <td>0.0</td>\n",
       "      <td>0.0</td>\n",
       "      <td>0.00000</td>\n",
       "      <td>1.0</td>\n",
       "      <td>1.705882</td>\n",
       "      <td>...</td>\n",
       "      <td>2.000000</td>\n",
       "      <td>3</td>\n",
       "      <td>1.0</td>\n",
       "      <td>0</td>\n",
       "      <td>12600.0</td>\n",
       "      <td>8409.586914</td>\n",
       "      <td>3175.889893</td>\n",
       "      <td>5024.774902</td>\n",
       "      <td>0.000000</td>\n",
       "      <td>0.000000</td>\n",
       "    </tr>\n",
       "  </tbody>\n",
       "</table>\n",
       "<p>5 rows × 23 columns</p>\n",
       "</div>"
      ],
      "text/plain": [
       "   target  var1  var2  var3  var4  var5   var6     var7  var8      var9  ...  \\\n",
       "0       1     1    61   0.0   0.0   0.0  165.5  0.05625   1.0 -0.198475  ...   \n",
       "1       0   164    58   0.0   0.0   0.0    0.0  0.00000   1.0 -0.341181  ...   \n",
       "2       1    61    60   0.0   0.0   0.0    0.0  0.00000   1.0 -0.078947  ...   \n",
       "3       0   108    49   0.0   0.0   0.0    0.0  0.00000   1.0 -0.924464  ...   \n",
       "4       0   157    74   0.0   0.0   0.0    0.0  0.00000   1.0  1.705882  ...   \n",
       "\n",
       "      var13  var14  var15  var16    var17        var18        var19  \\\n",
       "0  0.000000      0    0.0      0      0.0     0.000000     0.000000   \n",
       "1  2.333333      4    1.0      0   8400.0  2780.186523  5608.359863   \n",
       "2  2.000000      2    3.0      0      0.0     0.000000     0.000000   \n",
       "3  3.666667      4    2.0      0  67320.0     0.000000     0.000000   \n",
       "4  2.000000      3    1.0      0  12600.0  8409.586914  3175.889893   \n",
       "\n",
       "         var20        var21      var22  \n",
       "0     0.000000     0.000000   0.000000  \n",
       "1  3172.283203  3689.523438  11.333333  \n",
       "2     0.000000     0.000000   5.500000  \n",
       "3     0.000000  2168.733398   8.500000  \n",
       "4  5024.774902     0.000000   0.000000  \n",
       "\n",
       "[5 rows x 23 columns]"
      ]
     },
     "execution_count": 14,
     "metadata": {},
     "output_type": "execute_result"
    }
   ],
   "source": [
    "df = pd.read_table(\"Downloads/data_examen_sanit.txt\")\n",
    "print(df.shape)\n",
    "df.head()"
   ]
  },
  {
   "cell_type": "code",
   "execution_count": 15,
   "metadata": {},
   "outputs": [
    {
     "data": {
      "text/plain": [
       "array([1, 0])"
      ]
     },
     "execution_count": 15,
     "metadata": {},
     "output_type": "execute_result"
    }
   ],
   "source": [
    "df.target.unique()"
   ]
  },
  {
   "cell_type": "code",
   "execution_count": 43,
   "metadata": {},
   "outputs": [
    {
     "data": {
      "text/plain": [
       "0    17214\n",
       "1     8613\n",
       "Name: target, dtype: int64"
      ]
     },
     "execution_count": 43,
     "metadata": {},
     "output_type": "execute_result"
    }
   ],
   "source": [
    "df.target.value_counts()"
   ]
  },
  {
   "cell_type": "markdown",
   "metadata": {},
   "source": [
    "#### 3.1"
   ]
  },
  {
   "cell_type": "markdown",
   "metadata": {},
   "source": [
    "#### Correlations"
   ]
  },
  {
   "cell_type": "code",
   "execution_count": 16,
   "metadata": {
    "scrolled": false
   },
   "outputs": [
    {
     "data": {
      "image/png": "[encoded data removed]",
      "text/plain": [
       "<Figure size 792x792 with 2 Axes>"
      ]
     },
     "metadata": {
      "needs_background": "light"
     },
     "output_type": "display_data"
    }
   ],
   "source": [
    "# Generate a mask for the upper triangle\n",
    "#mask = np.triu(np.ones_like(train_dum.corr(), dtype=np.bool))\n",
    "#I let the mask here in case someone prefers to apply it, however I see more clear inputs without the mask\n",
    "\n",
    "plt.figure(figsize=(11, 11))\n",
    "\n",
    "# Generate a custom diverging colormap\n",
    "cmap = sns.diverging_palette(220, 10, as_cmap=True)\n",
    "\n",
    "# Draw the heatmap with the mask and correct aspect ratio\n",
    "sns.heatmap(df.corr(), mask=None, cmap=cmap, vmax=1, center=0,\n",
    "            square=True, linewidths=.5, cbar_kws={\"shrink\": .5})\n",
    "plt.show()"
   ]
  },
  {
   "cell_type": "markdown",
   "metadata": {},
   "source": [
    "#### Vars Description"
   ]
  },
  {
   "cell_type": "code",
   "execution_count": 17,
   "metadata": {
    "scrolled": false
   },
   "outputs": [
    {
     "data": {
      "text/html": [
       "<div>\n",
       "<style scoped>\n",
       "    .dataframe tbody tr th:only-of-type {\n",
       "        vertical-align: middle;\n",
       "    }\n",
       "\n",
       "    .dataframe tbody tr th {\n",
       "        vertical-align: top;\n",
       "    }\n",
       "\n",
       "    .dataframe thead th {\n",
       "        text-align: right;\n",
       "    }\n",
       "</style>\n",
       "<table border=\"1\" class=\"dataframe\">\n",
       "  <thead>\n",
       "    <tr style=\"text-align: right;\">\n",
       "      <th></th>\n",
       "      <th>target</th>\n",
       "      <th>var1</th>\n",
       "      <th>var2</th>\n",
       "      <th>var3</th>\n",
       "      <th>var4</th>\n",
       "      <th>var5</th>\n",
       "      <th>var6</th>\n",
       "      <th>var7</th>\n",
       "      <th>var8</th>\n",
       "      <th>var9</th>\n",
       "      <th>...</th>\n",
       "      <th>var13</th>\n",
       "      <th>var14</th>\n",
       "      <th>var15</th>\n",
       "      <th>var16</th>\n",
       "      <th>var17</th>\n",
       "      <th>var18</th>\n",
       "      <th>var19</th>\n",
       "      <th>var20</th>\n",
       "      <th>var21</th>\n",
       "      <th>var22</th>\n",
       "    </tr>\n",
       "  </thead>\n",
       "  <tbody>\n",
       "    <tr>\n",
       "      <th>count</th>\n",
       "      <td>25827.000000</td>\n",
       "      <td>25827.000000</td>\n",
       "      <td>25827.000000</td>\n",
       "      <td>2.582700e+04</td>\n",
       "      <td>25827.000000</td>\n",
       "      <td>25827.000000</td>\n",
       "      <td>25827.000000</td>\n",
       "      <td>2.582700e+04</td>\n",
       "      <td>25827.000000</td>\n",
       "      <td>2.582700e+04</td>\n",
       "      <td>...</td>\n",
       "      <td>25827.000000</td>\n",
       "      <td>25827.000000</td>\n",
       "      <td>25827.000000</td>\n",
       "      <td>2.582700e+04</td>\n",
       "      <td>25827.000000</td>\n",
       "      <td>25827.000000</td>\n",
       "      <td>25827.000000</td>\n",
       "      <td>25827.000000</td>\n",
       "      <td>25827.000000</td>\n",
       "      <td>25827.000000</td>\n",
       "    </tr>\n",
       "    <tr>\n",
       "      <th>mean</th>\n",
       "      <td>0.333488</td>\n",
       "      <td>30.225539</td>\n",
       "      <td>44.179812</td>\n",
       "      <td>9.541317e+03</td>\n",
       "      <td>0.150089</td>\n",
       "      <td>314.090841</td>\n",
       "      <td>2125.847392</td>\n",
       "      <td>2.981376e+05</td>\n",
       "      <td>0.875313</td>\n",
       "      <td>2.791785e+05</td>\n",
       "      <td>...</td>\n",
       "      <td>1.201699</td>\n",
       "      <td>2.250126</td>\n",
       "      <td>1.241917</td>\n",
       "      <td>4.142951e+05</td>\n",
       "      <td>5064.022473</td>\n",
       "      <td>2326.223824</td>\n",
       "      <td>862.520928</td>\n",
       "      <td>875.276838</td>\n",
       "      <td>242.484030</td>\n",
       "      <td>1.262824</td>\n",
       "    </tr>\n",
       "    <tr>\n",
       "      <th>std</th>\n",
       "      <td>0.471468</td>\n",
       "      <td>42.262262</td>\n",
       "      <td>13.317488</td>\n",
       "      <td>6.619398e+04</td>\n",
       "      <td>0.376602</td>\n",
       "      <td>5645.001688</td>\n",
       "      <td>3878.574531</td>\n",
       "      <td>1.700765e+06</td>\n",
       "      <td>0.304066</td>\n",
       "      <td>1.647366e+06</td>\n",
       "      <td>...</td>\n",
       "      <td>1.432546</td>\n",
       "      <td>1.880132</td>\n",
       "      <td>1.081331</td>\n",
       "      <td>1.992853e+06</td>\n",
       "      <td>11920.527778</td>\n",
       "      <td>7165.683425</td>\n",
       "      <td>4245.409289</td>\n",
       "      <td>3945.945087</td>\n",
       "      <td>1159.344788</td>\n",
       "      <td>3.766725</td>\n",
       "    </tr>\n",
       "    <tr>\n",
       "      <th>min</th>\n",
       "      <td>0.000000</td>\n",
       "      <td>-1.000000</td>\n",
       "      <td>20.000000</td>\n",
       "      <td>0.000000e+00</td>\n",
       "      <td>0.000000</td>\n",
       "      <td>0.000000</td>\n",
       "      <td>0.000000</td>\n",
       "      <td>-1.000000e+00</td>\n",
       "      <td>0.000000</td>\n",
       "      <td>-1.000000e+00</td>\n",
       "      <td>...</td>\n",
       "      <td>0.000000</td>\n",
       "      <td>0.000000</td>\n",
       "      <td>0.000000</td>\n",
       "      <td>-1.000000e+00</td>\n",
       "      <td>0.000000</td>\n",
       "      <td>0.000000</td>\n",
       "      <td>0.000000</td>\n",
       "      <td>0.000000</td>\n",
       "      <td>0.000000</td>\n",
       "      <td>0.000000</td>\n",
       "    </tr>\n",
       "    <tr>\n",
       "      <th>25%</th>\n",
       "      <td>0.000000</td>\n",
       "      <td>3.000000</td>\n",
       "      <td>33.000000</td>\n",
       "      <td>0.000000e+00</td>\n",
       "      <td>0.000000</td>\n",
       "      <td>0.000000</td>\n",
       "      <td>0.000000</td>\n",
       "      <td>-1.892588e-02</td>\n",
       "      <td>1.000000</td>\n",
       "      <td>-6.021422e-01</td>\n",
       "      <td>...</td>\n",
       "      <td>0.000000</td>\n",
       "      <td>1.000000</td>\n",
       "      <td>0.000000</td>\n",
       "      <td>0.000000e+00</td>\n",
       "      <td>0.000000</td>\n",
       "      <td>0.000000</td>\n",
       "      <td>0.000000</td>\n",
       "      <td>0.000000</td>\n",
       "      <td>0.000000</td>\n",
       "      <td>0.000000</td>\n",
       "    </tr>\n",
       "    <tr>\n",
       "      <th>50%</th>\n",
       "      <td>0.000000</td>\n",
       "      <td>10.000000</td>\n",
       "      <td>43.000000</td>\n",
       "      <td>0.000000e+00</td>\n",
       "      <td>0.000000</td>\n",
       "      <td>0.000000</td>\n",
       "      <td>1199.500000</td>\n",
       "      <td>0.000000e+00</td>\n",
       "      <td>1.000000</td>\n",
       "      <td>0.000000e+00</td>\n",
       "      <td>...</td>\n",
       "      <td>1.000000</td>\n",
       "      <td>2.000000</td>\n",
       "      <td>1.000000</td>\n",
       "      <td>0.000000e+00</td>\n",
       "      <td>0.000000</td>\n",
       "      <td>0.000000</td>\n",
       "      <td>0.000000</td>\n",
       "      <td>0.000000</td>\n",
       "      <td>0.000000</td>\n",
       "      <td>0.000000</td>\n",
       "    </tr>\n",
       "    <tr>\n",
       "      <th>75%</th>\n",
       "      <td>1.000000</td>\n",
       "      <td>37.000000</td>\n",
       "      <td>55.000000</td>\n",
       "      <td>0.000000e+00</td>\n",
       "      <td>0.000000</td>\n",
       "      <td>0.000000</td>\n",
       "      <td>2977.583374</td>\n",
       "      <td>1.426431e-02</td>\n",
       "      <td>1.000000</td>\n",
       "      <td>4.837878e-01</td>\n",
       "      <td>...</td>\n",
       "      <td>2.000000</td>\n",
       "      <td>3.000000</td>\n",
       "      <td>2.000000</td>\n",
       "      <td>0.000000e+00</td>\n",
       "      <td>5200.000000</td>\n",
       "      <td>856.638336</td>\n",
       "      <td>0.000000</td>\n",
       "      <td>0.000000</td>\n",
       "      <td>0.000000</td>\n",
       "      <td>1.000000</td>\n",
       "    </tr>\n",
       "    <tr>\n",
       "      <th>max</th>\n",
       "      <td>1.000000</td>\n",
       "      <td>173.000000</td>\n",
       "      <td>85.000000</td>\n",
       "      <td>2.715397e+06</td>\n",
       "      <td>6.000000</td>\n",
       "      <td>461107.156250</td>\n",
       "      <td>245103.328125</td>\n",
       "      <td>9.999999e+06</td>\n",
       "      <td>1.000000</td>\n",
       "      <td>9.999999e+06</td>\n",
       "      <td>...</td>\n",
       "      <td>8.500000</td>\n",
       "      <td>11.000000</td>\n",
       "      <td>3.000000</td>\n",
       "      <td>9.999999e+06</td>\n",
       "      <td>228100.000000</td>\n",
       "      <td>143228.750000</td>\n",
       "      <td>149873.453125</td>\n",
       "      <td>140556.906250</td>\n",
       "      <td>63310.980469</td>\n",
       "      <td>76.166664</td>\n",
       "    </tr>\n",
       "  </tbody>\n",
       "</table>\n",
       "<p>8 rows × 23 columns</p>\n",
       "</div>"
      ],
      "text/plain": [
       "             target          var1          var2          var3          var4  \\\n",
       "count  25827.000000  25827.000000  25827.000000  2.582700e+04  25827.000000   \n",
       "mean       0.333488     30.225539     44.179812  9.541317e+03      0.150089   \n",
       "std        0.471468     42.262262     13.317488  6.619398e+04      0.376602   \n",
       "min        0.000000     -1.000000     20.000000  0.000000e+00      0.000000   \n",
       "25%        0.000000      3.000000     33.000000  0.000000e+00      0.000000   \n",
       "50%        0.000000     10.000000     43.000000  0.000000e+00      0.000000   \n",
       "75%        1.000000     37.000000     55.000000  0.000000e+00      0.000000   \n",
       "max        1.000000    173.000000     85.000000  2.715397e+06      6.000000   \n",
       "\n",
       "                var5           var6          var7          var8          var9  \\\n",
       "count   25827.000000   25827.000000  2.582700e+04  25827.000000  2.582700e+04   \n",
       "mean      314.090841    2125.847392  2.981376e+05      0.875313  2.791785e+05   \n",
       "std      5645.001688    3878.574531  1.700765e+06      0.304066  1.647366e+06   \n",
       "min         0.000000       0.000000 -1.000000e+00      0.000000 -1.000000e+00   \n",
       "25%         0.000000       0.000000 -1.892588e-02      1.000000 -6.021422e-01   \n",
       "50%         0.000000    1199.500000  0.000000e+00      1.000000  0.000000e+00   \n",
       "75%         0.000000    2977.583374  1.426431e-02      1.000000  4.837878e-01   \n",
       "max    461107.156250  245103.328125  9.999999e+06      1.000000  9.999999e+06   \n",
       "\n",
       "       ...         var13         var14         var15         var16  \\\n",
       "count  ...  25827.000000  25827.000000  25827.000000  2.582700e+04   \n",
       "mean   ...      1.201699      2.250126      1.241917  4.142951e+05   \n",
       "std    ...      1.432546      1.880132      1.081331  1.992853e+06   \n",
       "min    ...      0.000000      0.000000      0.000000 -1.000000e+00   \n",
       "25%    ...      0.000000      1.000000      0.000000  0.000000e+00   \n",
       "50%    ...      1.000000      2.000000      1.000000  0.000000e+00   \n",
       "75%    ...      2.000000      3.000000      2.000000  0.000000e+00   \n",
       "max    ...      8.500000     11.000000      3.000000  9.999999e+06   \n",
       "\n",
       "               var17          var18          var19          var20  \\\n",
       "count   25827.000000   25827.000000   25827.000000   25827.000000   \n",
       "mean     5064.022473    2326.223824     862.520928     875.276838   \n",
       "std     11920.527778    7165.683425    4245.409289    3945.945087   \n",
       "min         0.000000       0.000000       0.000000       0.000000   \n",
       "25%         0.000000       0.000000       0.000000       0.000000   \n",
       "50%         0.000000       0.000000       0.000000       0.000000   \n",
       "75%      5200.000000     856.638336       0.000000       0.000000   \n",
       "max    228100.000000  143228.750000  149873.453125  140556.906250   \n",
       "\n",
       "              var21         var22  \n",
       "count  25827.000000  25827.000000  \n",
       "mean     242.484030      1.262824  \n",
       "std     1159.344788      3.766725  \n",
       "min        0.000000      0.000000  \n",
       "25%        0.000000      0.000000  \n",
       "50%        0.000000      0.000000  \n",
       "75%        0.000000      1.000000  \n",
       "max    63310.980469     76.166664  \n",
       "\n",
       "[8 rows x 23 columns]"
      ]
     },
     "execution_count": 17,
     "metadata": {},
     "output_type": "execute_result"
    }
   ],
   "source": [
    "df.describe()"
   ]
  },
  {
   "cell_type": "markdown",
   "metadata": {},
   "source": [
    "#### Vars Distribution"
   ]
  },
  {
   "cell_type": "code",
   "execution_count": 18,
   "metadata": {
    "scrolled": false
   },
   "outputs": [
    {
     "data": {
      "image/png": "[encoded data removed]",
      "text/plain": [
       "<Figure size 1080x720 with 23 Axes>"
      ]
     },
     "metadata": {
      "needs_background": "light"
     },
     "output_type": "display_data"
    }
   ],
   "source": [
    "figure = plt.figure(figsize=(15,10))\n",
    "\n",
    "for n, col in enumerate(df.columns):\n",
    "    ax = figure.add_subplot(6,4,n+1)\n",
    "    ax.set_title(col)\n",
    "    df[col].hist(ax=ax, bins=50)\n",
    "    \n",
    "figure.tight_layout() #this feature separate the graphs correctly\n",
    "plt.show()"
   ]
  },
  {
   "cell_type": "markdown",
   "metadata": {},
   "source": [
    "#### ANOVA Test (dependent var nominal, independent ones continuous)"
   ]
  },
  {
   "cell_type": "code",
   "execution_count": 49,
   "metadata": {
    "scrolled": false
   },
   "outputs": [
    {
     "name": "stdout",
     "output_type": "stream",
     "text": [
      "                            OLS Regression Results                            \n",
      "==============================================================================\n",
      "Dep. Variable:                 target   R-squared:                       0.106\n",
      "Model:                            OLS   Adj. R-squared:                  0.105\n",
      "Method:                 Least Squares   F-statistic:                     138.9\n",
      "Date:                Thu, 17 Dec 2020   Prob (F-statistic):               0.00\n",
      "Time:                        01:03:40   Log-Likelihood:                -15782.\n",
      "No. Observations:               25827   AIC:                         3.161e+04\n",
      "Df Residuals:                   25804   BIC:                         3.180e+04\n",
      "Df Model:                          22                                         \n",
      "Covariance Type:            nonrobust                                         \n",
      "==============================================================================\n",
      "                 coef    std err          t      P>|t|      [0.025      0.975]\n",
      "------------------------------------------------------------------------------\n",
      "Intercept      0.7597      0.014     53.554      0.000       0.732       0.787\n",
      "var1          -0.0015   7.75e-05    -19.985      0.000      -0.002      -0.001\n",
      "var2          -0.0034      0.000    -13.632      0.000      -0.004      -0.003\n",
      "var3        7.754e-08   4.76e-08      1.630      0.103   -1.57e-08    1.71e-07\n",
      "var4           0.0225      0.008      2.855      0.004       0.007       0.038\n",
      "var5       -5.975e-07   5.23e-07     -1.142      0.253   -1.62e-06    4.28e-07\n",
      "var6       -1.234e-05   7.59e-07    -16.253      0.000   -1.38e-05   -1.09e-05\n",
      "var7       -1.494e-08   1.68e-09     -8.897      0.000   -1.82e-08   -1.17e-08\n",
      "var8          -0.1898      0.010    -19.657      0.000      -0.209      -0.171\n",
      "var9       -4.429e-10   1.73e-09     -0.256      0.798   -3.84e-09    2.95e-09\n",
      "var10       8.484e-08   5.47e-08      1.552      0.121   -2.23e-08    1.92e-07\n",
      "var11      -7.391e-07   1.48e-07     -4.995      0.000   -1.03e-06   -4.49e-07\n",
      "var12        3.75e-09   1.11e-07      0.034      0.973   -2.14e-07    2.21e-07\n",
      "var13         -0.0181      0.004     -4.554      0.000      -0.026      -0.010\n",
      "var14         -0.0053      0.003     -1.582      0.114      -0.012       0.001\n",
      "var15          0.0105      0.003      3.544      0.000       0.005       0.016\n",
      "var16      -1.985e-09   1.42e-09     -1.401      0.161   -4.76e-09    7.92e-10\n",
      "var17      -1.933e-06   4.07e-07     -4.752      0.000   -2.73e-06   -1.14e-06\n",
      "var18       7.336e-07   5.49e-07      1.337      0.181   -3.42e-07    1.81e-06\n",
      "var19      -4.689e-06   9.04e-07     -5.188      0.000   -6.46e-06   -2.92e-06\n",
      "var20       5.247e-06   1.01e-06      5.179      0.000    3.26e-06    7.23e-06\n",
      "var21      -2.611e-07   3.16e-06     -0.083      0.934   -6.46e-06    5.93e-06\n",
      "var22         -0.0048      0.001     -4.793      0.000      -0.007      -0.003\n",
      "==============================================================================\n",
      "Omnibus:                    57722.633   Durbin-Watson:                   1.967\n",
      "Prob(Omnibus):                  0.000   Jarque-Bera (JB):             3100.386\n",
      "Skew:                           0.561   Prob(JB):                         0.00\n",
      "Kurtosis:                       1.726   Cond. No.                     1.18e+07\n",
      "==============================================================================\n",
      "\n",
      "Warnings:\n",
      "[1] Standard Errors assume that the covariance matrix of the errors is correctly specified.\n",
      "[2] The condition number is large, 1.18e+07. This might indicate that there are\n",
      "strong multicollinearity or other numerical problems.\n",
      "               sum_sq       df           F        PR(>F)\n",
      "var1        79.444814      1.0  399.390697  3.477190e-88\n",
      "var2        36.965935      1.0  185.837811  3.606388e-42\n",
      "var3         0.528625      1.0    2.657541  1.030722e-01\n",
      "var4         1.621330      1.0    8.150866  4.307492e-03\n",
      "var5         0.259640      1.0    1.305280  2.532616e-01\n",
      "var6        52.546281      1.0  264.164451  4.174762e-59\n",
      "var7        15.745583      1.0   79.157328  6.103065e-19\n",
      "var8        76.863314      1.0  386.412794  2.109152e-85\n",
      "var9         0.013012      1.0    0.065417  7.981328e-01\n",
      "var10        0.478987      1.0    2.407998  1.207289e-01\n",
      "var11        4.963805      1.0   24.954398  5.908558e-07\n",
      "var12        0.000228      1.0    0.001145  9.730118e-01\n",
      "var13        4.126009      1.0   20.742572  5.277512e-06\n",
      "var14        0.497736      1.0    2.502257  1.136956e-01\n",
      "var15        2.498400      1.0   12.560137  3.947593e-04\n",
      "var16        0.390560      1.0    1.963451  1.611567e-01\n",
      "var17        4.492116      1.0   22.583092  2.023313e-06\n",
      "var18        0.355594      1.0    1.787668  1.812223e-01\n",
      "var19        5.353401      1.0   26.913003  2.144300e-07\n",
      "var20        5.336109      1.0   26.826074  2.242846e-07\n",
      "var21        0.001357      1.0    0.006823  9.341703e-01\n",
      "var22        4.570336      1.0   22.976322  1.649217e-06\n",
      "Residual  5132.803547  25804.0         NaN           NaN\n"
     ]
    }
   ],
   "source": [
    "#TEST ANOVA PARA VARIABLE DEPENDIENTE QUANTITATIVA RESTO NOMINALES (aqui los datos usados estan mal, por eso\n",
    "#R² es tan bajo)\n",
    "import statsmodels.api as sm\n",
    "from statsmodels.formula.api import ols\n",
    "\n",
    "model = ols(formula = \"target ~ var1 + var2 + var3 + var4 + var5 + var6 + var7 + var8 + var9 + var10 + var11 + var12 + var13 + var14 + var15 + var16 + var17 + var18 + var19 + var20 + var21 + var22\", data = df)\n",
    "reg = model.fit()\n",
    "anova = sm.stats.anova_lm(reg, typ=2)\n",
    "print(reg.summary())\n",
    "print(anova)"
   ]
  },
  {
   "cell_type": "code",
   "execution_count": null,
   "metadata": {},
   "outputs": [],
   "source": [
    "y = df.target\n",
    "X = df.drop(columns={\"target\"})"
   ]
  },
  {
   "cell_type": "code",
   "execution_count": 51,
   "metadata": {},
   "outputs": [
    {
     "name": "stdout",
     "output_type": "stream",
     "text": [
      "Feature 0: 0.000000\n",
      "Feature 1: 0.000000\n",
      "Feature 2: 0.000000\n",
      "Feature 3: 0.021626\n",
      "Feature 4: 0.162836\n",
      "Feature 5: 0.000000\n",
      "Feature 6: 0.000000\n",
      "Feature 7: 0.000000\n",
      "Feature 8: 0.483838\n",
      "Feature 9: 0.000000\n",
      "Feature 10: 0.000000\n",
      "Feature 11: 0.000000\n",
      "Feature 12: 0.000000\n",
      "Feature 13: 0.000000\n",
      "Feature 14: 0.836213\n",
      "Feature 15: 0.439153\n",
      "Feature 16: 0.000000\n",
      "Feature 17: 0.000000\n",
      "Feature 18: 0.000000\n",
      "Feature 19: 0.001185\n",
      "Feature 20: 0.000000\n",
      "Feature 21: 0.000000\n"
     ]
    },
    {
     "data": {
      "image/png": "[encoded data removed]",
      "text/plain": [
       "<Figure size 432x288 with 1 Axes>"
      ]
     },
     "metadata": {
      "needs_background": "light"
     },
     "output_type": "display_data"
    }
   ],
   "source": [
    "#ESTE SERIA EL EJEMPLO DE ARRIBA CON SKLEARN \n",
    "from sklearn.feature_selection import SelectKBest\n",
    "from sklearn.feature_selection import f_classif, f_regression\n",
    "\n",
    "# feature selection\n",
    "def select_features(X_train, y_train, X_test):\n",
    "\t# configure to select all features\n",
    "\tfs = SelectKBest(score_func=f_regression, k='all')\n",
    "\t# learn relationship from training data\n",
    "\tfs.fit(X_train, y_train)\n",
    "\t# transform train input data\n",
    "\tX_train_fs = fs.transform(X_train)\n",
    "\t# transform test input data\n",
    "\tX_test_fs = fs.transform(X_test)\n",
    "\treturn X_train_fs, X_test_fs, fs\n",
    "\n",
    "# split into train and test sets\n",
    "X_train, X_test, y_train, y_test = train_test_split(X, y, test_size=0.33, random_state=1)\n",
    "# feature selection\n",
    "X_train_fs, X_test_fs, fs = select_features(X_train, y_train, X_test)\n",
    "# what are scores for the features\n",
    "for i in range(len(fs.pvalues_)):\n",
    "\tprint('Feature %d: %f' % (i, fs.pvalues_[i]))\n",
    "# plot the scores\n",
    "plt.bar([i for i in range(len(fs.pvalues_))], fs.pvalues_)\n",
    "plt.show()"
   ]
  },
  {
   "cell_type": "code",
   "execution_count": 50,
   "metadata": {},
   "outputs": [
    {
     "name": "stdout",
     "output_type": "stream",
     "text": [
      "Feature 0: 0.000000\n",
      "Feature 1: 0.000000\n",
      "Feature 2: 0.000000\n",
      "Feature 3: 0.021626\n",
      "Feature 4: 0.162836\n",
      "Feature 5: 0.000000\n",
      "Feature 6: 0.000000\n",
      "Feature 7: 0.000000\n",
      "Feature 8: 0.483838\n",
      "Feature 9: 0.000000\n",
      "Feature 10: 0.000000\n",
      "Feature 11: 0.000000\n",
      "Feature 12: 0.000000\n",
      "Feature 13: 0.000000\n",
      "Feature 14: 0.836213\n",
      "Feature 15: 0.439153\n",
      "Feature 16: 0.000000\n",
      "Feature 17: 0.000000\n",
      "Feature 18: 0.000000\n",
      "Feature 19: 0.001185\n",
      "Feature 20: 0.000000\n",
      "Feature 21: 0.000000\n"
     ]
    },
    {
     "data": {
      "image/png": "[encoded data removed]",
      "text/plain": [
       "<Figure size 432x288 with 1 Axes>"
      ]
     },
     "metadata": {
      "needs_background": "light"
     },
     "output_type": "display_data"
    }
   ],
   "source": [
    "#ESTE ES EL EJEMPLO CORRECTO EN ESTE CASO, USAMOS f_classif (QUE HACE ANOVA) CUANDO LA VAR DEPENDIENTE \n",
    "#ES NOMINAL Y EL RESTO CUANTITATIVAS\n",
    "# feature selection\n",
    "def select_features(X_train, y_train, X_test):\n",
    "\t# configure to select all features\n",
    "\tfs = SelectKBest(score_func=f_classif, k='all')\n",
    "\t# learn relationship from training data\n",
    "\tfs.fit(X_train, y_train)\n",
    "\t# transform train input data\n",
    "\tX_train_fs = fs.transform(X_train)\n",
    "\t# transform test input data\n",
    "\tX_test_fs = fs.transform(X_test)\n",
    "\treturn X_train_fs, X_test_fs, fs\n",
    "\n",
    "# split into train and test sets\n",
    "X_train, X_test, y_train, y_test = train_test_split(X, y, test_size=0.33, random_state=1)\n",
    "# feature selection\n",
    "X_train_fs, X_test_fs, fs = select_features(X_train, y_train, X_test)\n",
    "# what are scores for the features\n",
    "for i in range(len(fs.pvalues_)):\n",
    "\tprint('Feature %d: %f' % (i, fs.pvalues_[i]))\n",
    "# plot the scores\n",
    "plt.bar([i for i in range(len(fs.pvalues_))], fs.pvalues_)\n",
    "plt.show()"
   ]
  },
  {
   "cell_type": "markdown",
   "metadata": {},
   "source": [
    "#### 3.2"
   ]
  },
  {
   "cell_type": "code",
   "execution_count": 21,
   "metadata": {},
   "outputs": [],
   "source": [
    "from sklearn.metrics import accuracy_score, precision_score, recall_score, f1_score\n",
    "from sklearn.metrics import classification_report\n",
    "from sklearn.metrics import confusion_matrix \n",
    "from sklearn.model_selection import train_test_split"
   ]
  },
  {
   "cell_type": "code",
   "execution_count": 115,
   "metadata": {},
   "outputs": [],
   "source": [
    "from sklearn.tree import DecisionTreeClassifier \n",
    "dTree = DecisionTreeClassifier()\n",
    "\n",
    "from sklearn.linear_model import LogisticRegression\n",
    "regLog = LogisticRegression(penalty=\"l2\", solver=\"lbfgs\", max_iter=1000, n_jobs=-1,\n",
    "                           class_weight=None)\n",
    "\n",
    "from sklearn.preprocessing import StandardScaler\n",
    "s_Scaler = StandardScaler()\n",
    "\n",
    "\n",
    "from sklearn.preprocessing import MinMaxScaler\n",
    "mm_Scaler = MinMaxScaler()\n",
    "\n",
    "from sklearn import preprocessing\n",
    "\n",
    "def split(X, y, t_size=float):\n",
    "    #split\n",
    "    X_train, X_test, y_train, y_test = train_test_split(X, y, test_size=t_size)\n",
    "    print(X_train.shape, X_test.shape, y_train.shape, y_test.shape, \"\\n\")\n",
    "    return X_train, X_test, y_train, y_test\n",
    "\n",
    "\n",
    "def train_predict(model=str, scaler=None, X=pd.DataFrame, y=pd.Series, X_test=pd.DataFrame):\n",
    "    #train_predict\n",
    "    if model == \"dTree\":\n",
    "        model = dTree\n",
    "        model.fit(X, y)\n",
    "        y_pred = model.predict(X_test)\n",
    "        return y_pred\n",
    "    \n",
    "    elif model == \"regLog\" and scaler == \"standard\":\n",
    "        model = regLog\n",
    "        x = pd.DataFrame(s_Scaler.fit_transform(X))\n",
    "        x.columns = X.columns\n",
    "        model.fit(X, y)\n",
    "        y_pred = model.predict(X_test)\n",
    "        return y_pred\n",
    "    \n",
    "    elif model == \"regLog\" and scaler == \"normalize\":\n",
    "        model = regLog\n",
    "        x = pd.DataFrame(mm_Scaler.fit_transform(X))\n",
    "        x.columns = X.columns\n",
    "        model.fit(X, y)\n",
    "        y_pred = model.predict(X_test)\n",
    "        return y_pred\n",
    "    \n",
    "    elif model == \"regLog\" and scaler == \"scale\":\n",
    "        model = regLog\n",
    "        x = pd.DataFrame(preprocessing.scale(X))\n",
    "        x.columns = X.columns\n",
    "        model.fit(X, y)\n",
    "        y_pred = model.predict(X_test)\n",
    "        return y_pred\n",
    "    \n",
    "def show_accuracy(y_pred, y_test):\n",
    "    \n",
    "    print(\"Accuracy Metrics:\\n\")\n",
    "    print(\"Accuracy\", accuracy_score(y_test, y_pred),\"\\n\")\n",
    "    print(\"Precision\", precision_score(y_test, y_pred, average=None),\"\\n\")\n",
    "    print(\"Recall\", recall_score(y_test, y_pred, average=None),\"\\n\")\n",
    "    print(\"F1Score\", f1_score(y_test, y_pred, average=None),\"\\n\")\n",
    "    \n",
    "    print(\"\\n\")\n",
    "    \n",
    "    print(\"Classification Report:\\n\")\n",
    "    print(classification_report(y_test, y_pred))\n",
    "\n",
    "    print(\"\\n\")\n",
    "    \n",
    "    print(\"Confusion Matrix:\\n\")\n",
    "    cm = confusion_matrix(y_test, y_pred)\n",
    "    sns.heatmap(cm, annot=True)\n",
    "    plt.show()\n",
    "\n",
    "def run_model(model, scaler, X, y, t_size=float):\n",
    "    #split\n",
    "    X_train, X_test, y_train, y_test = split(X, y, t_size=t_size)\n",
    "        \n",
    "    print(\"1st Iteration ----- Training with 70%\\n\")\n",
    "    y_pred = train_predict(model, scaler, X_train, y_train, X_test)\n",
    "        \n",
    "    show_accuracy(y_pred, y_test)\n",
    "    \n",
    "    print(\"----------------------------------------------------------------------------------------------\")\n",
    "    \n",
    "    print(\"2nd Iteration ----- Training with 100%\\nHint: Here we usually test the trained data with a new dataset and we train with 100% of our data\\n\")\n",
    "    y_pred = train_predict(model, scaler, X, y, X_test)\n",
    "    \n",
    "    show_accuracy(y_pred, y_test)"
   ]
  },
  {
   "cell_type": "markdown",
   "metadata": {},
   "source": [
    "#### 3.3"
   ]
  },
  {
   "cell_type": "code",
   "execution_count": 116,
   "metadata": {},
   "outputs": [
    {
     "name": "stdout",
     "output_type": "stream",
     "text": [
      "(18078, 22) (7749, 22) (18078,) (7749,) \n",
      "\n",
      "1st Iteration ----- Training with 70%\n",
      "\n",
      "Accuracy Metrics:\n",
      "\n",
      "Accuracy 0.6953155245838173 \n",
      "\n",
      "Precision [0.77452532 0.5466023 ] \n",
      "\n",
      "Recall [0.76231263 0.56355283] \n",
      "\n",
      "F1Score [0.76837045 0.55494816] \n",
      "\n",
      "\n",
      "\n",
      "Classification Report:\n",
      "\n",
      "              precision    recall  f1-score   support\n",
      "\n",
      "           0       0.77      0.76      0.77      5137\n",
      "           1       0.55      0.56      0.55      2612\n",
      "\n",
      "    accuracy                           0.70      7749\n",
      "   macro avg       0.66      0.66      0.66      7749\n",
      "weighted avg       0.70      0.70      0.70      7749\n",
      "\n",
      "\n",
      "\n",
      "Confusion Matrix:\n",
      "\n"
     ]
    },
    {
     "data": {
      "image/png": "[encoded data removed]",
      "text/plain": [
       "<Figure size 432x288 with 2 Axes>"
      ]
     },
     "metadata": {
      "needs_background": "light"
     },
     "output_type": "display_data"
    },
    {
     "name": "stdout",
     "output_type": "stream",
     "text": [
      "----------------------------------------------------------------------------------------------\n",
      "2nd Iteration ----- Training with 100%\n",
      "Hint: Here we usually test the trained data with a new dataset and we train with 100% of our data\n",
      "\n",
      "Accuracy Metrics:\n",
      "\n",
      "Accuracy 1.0 \n",
      "\n",
      "Precision [1. 1.] \n",
      "\n",
      "Recall [1. 1.] \n",
      "\n",
      "F1Score [1. 1.] \n",
      "\n",
      "\n",
      "\n",
      "Classification Report:\n",
      "\n",
      "              precision    recall  f1-score   support\n",
      "\n",
      "           0       1.00      1.00      1.00      5137\n",
      "           1       1.00      1.00      1.00      2612\n",
      "\n",
      "    accuracy                           1.00      7749\n",
      "   macro avg       1.00      1.00      1.00      7749\n",
      "weighted avg       1.00      1.00      1.00      7749\n",
      "\n",
      "\n",
      "\n",
      "Confusion Matrix:\n",
      "\n"
     ]
    },
    {
     "data": {
      "image/png": "[encoded data removed]",
      "text/plain": [
       "<Figure size 432x288 with 2 Axes>"
      ]
     },
     "metadata": {
      "needs_background": "light"
     },
     "output_type": "display_data"
    }
   ],
   "source": [
    "run_model(\"dTree\", None, X, y, t_size=0.3)"
   ]
  },
  {
   "cell_type": "code",
   "execution_count": 117,
   "metadata": {
    "scrolled": false
   },
   "outputs": [
    {
     "name": "stdout",
     "output_type": "stream",
     "text": [
      "(18078, 22) (7749, 22) (18078,) (7749,) \n",
      "\n",
      "1st Iteration ----- Training with 70%\n",
      "\n",
      "Accuracy Metrics:\n",
      "\n",
      "Accuracy 0.6958317202219642 \n",
      "\n",
      "Precision [0.68874712 0.83246073] \n",
      "\n",
      "Recall [0.98754379 0.12179242] \n",
      "\n",
      "F1Score [0.81151539 0.21249582] \n",
      "\n",
      "\n",
      "\n",
      "Classification Report:\n",
      "\n",
      "              precision    recall  f1-score   support\n",
      "\n",
      "           0       0.69      0.99      0.81      5138\n",
      "           1       0.83      0.12      0.21      2611\n",
      "\n",
      "    accuracy                           0.70      7749\n",
      "   macro avg       0.76      0.55      0.51      7749\n",
      "weighted avg       0.74      0.70      0.61      7749\n",
      "\n",
      "\n",
      "\n",
      "Confusion Matrix:\n",
      "\n"
     ]
    },
    {
     "data": {
      "image/png": "[encoded data removed]",
      "text/plain": [
       "<Figure size 432x288 with 2 Axes>"
      ]
     },
     "metadata": {
      "needs_background": "light"
     },
     "output_type": "display_data"
    },
    {
     "name": "stdout",
     "output_type": "stream",
     "text": [
      "----------------------------------------------------------------------------------------------\n",
      "2nd Iteration ----- Training with 100%\n",
      "Hint: Here we usually test the trained data with a new dataset and we train with 100% of our data\n",
      "\n",
      "Accuracy Metrics:\n",
      "\n",
      "Accuracy 0.6931216931216931 \n",
      "\n",
      "Precision [0.6865369  0.83190883] \n",
      "\n",
      "Recall [0.98851693 0.11183455] \n",
      "\n",
      "F1Score [0.81030632 0.19716408] \n",
      "\n",
      "\n",
      "\n",
      "Classification Report:\n",
      "\n",
      "              precision    recall  f1-score   support\n",
      "\n",
      "           0       0.69      0.99      0.81      5138\n",
      "           1       0.83      0.11      0.20      2611\n",
      "\n",
      "    accuracy                           0.69      7749\n",
      "   macro avg       0.76      0.55      0.50      7749\n",
      "weighted avg       0.74      0.69      0.60      7749\n",
      "\n",
      "\n",
      "\n",
      "Confusion Matrix:\n",
      "\n"
     ]
    },
    {
     "data": {
      "image/png": "[encoded data removed]",
      "text/plain": [
       "<Figure size 432x288 with 2 Axes>"
      ]
     },
     "metadata": {
      "needs_background": "light"
     },
     "output_type": "display_data"
    }
   ],
   "source": [
    "run_model(model=\"regLog\", scaler=\"normalize\", X=X, y=y, t_size=0.3)"
   ]
  },
  {
   "cell_type": "code",
   "execution_count": 118,
   "metadata": {
    "scrolled": false
   },
   "outputs": [
    {
     "name": "stdout",
     "output_type": "stream",
     "text": [
      "(18078, 22) (7749, 22) (18078,) (7749,) \n",
      "\n",
      "1st Iteration ----- Training with 70%\n",
      "\n",
      "Accuracy Metrics:\n",
      "\n",
      "Accuracy 0.7039618015227771 \n",
      "\n",
      "Precision [0.69686649 0.83129584] \n",
      "\n",
      "Recall [0.98668981 0.13255361] \n",
      "\n",
      "F1Score [0.81683168 0.22864829] \n",
      "\n",
      "\n",
      "\n",
      "Classification Report:\n",
      "\n",
      "              precision    recall  f1-score   support\n",
      "\n",
      "           0       0.70      0.99      0.82      5184\n",
      "           1       0.83      0.13      0.23      2565\n",
      "\n",
      "    accuracy                           0.70      7749\n",
      "   macro avg       0.76      0.56      0.52      7749\n",
      "weighted avg       0.74      0.70      0.62      7749\n",
      "\n",
      "\n",
      "\n",
      "Confusion Matrix:\n",
      "\n"
     ]
    },
    {
     "data": {
      "image/png": "[encoded data removed]",
      "text/plain": [
       "<Figure size 432x288 with 2 Axes>"
      ]
     },
     "metadata": {
      "needs_background": "light"
     },
     "output_type": "display_data"
    },
    {
     "name": "stdout",
     "output_type": "stream",
     "text": [
      "----------------------------------------------------------------------------------------------\n",
      "2nd Iteration ----- Training with 100%\n",
      "Hint: Here we usually test the trained data with a new dataset and we train with 100% of our data\n",
      "\n",
      "Accuracy Metrics:\n",
      "\n",
      "Accuracy 0.7009936766034327 \n",
      "\n",
      "Precision [0.69416226 0.83879781] \n",
      "\n",
      "Recall [0.98861883 0.11968811] \n",
      "\n",
      "F1Score [0.81562823 0.20948482] \n",
      "\n",
      "\n",
      "\n",
      "Classification Report:\n",
      "\n",
      "              precision    recall  f1-score   support\n",
      "\n",
      "           0       0.69      0.99      0.82      5184\n",
      "           1       0.84      0.12      0.21      2565\n",
      "\n",
      "    accuracy                           0.70      7749\n",
      "   macro avg       0.77      0.55      0.51      7749\n",
      "weighted avg       0.74      0.70      0.61      7749\n",
      "\n",
      "\n",
      "\n",
      "Confusion Matrix:\n",
      "\n"
     ]
    },
    {
     "data": {
      "image/png": "[encoded data removed]",
      "text/plain": [
       "<Figure size 432x288 with 2 Axes>"
      ]
     },
     "metadata": {
      "needs_background": "light"
     },
     "output_type": "display_data"
    }
   ],
   "source": [
    "run_model(model=\"regLog\", scaler=\"standard\", X=X, y=y, t_size=0.3)"
   ]
  },
  {
   "cell_type": "code",
   "execution_count": 119,
   "metadata": {
    "scrolled": false
   },
   "outputs": [
    {
     "name": "stdout",
     "output_type": "stream",
     "text": [
      "(18078, 22) (7749, 22) (18078,) (7749,) \n",
      "\n",
      "1st Iteration ----- Training with 70%\n",
      "\n",
      "Accuracy Metrics:\n",
      "\n",
      "Accuracy 0.697251258226868 \n",
      "\n",
      "Precision [0.69043101 0.8328841 ] \n",
      "\n",
      "Recall [0.98797517 0.11916699] \n",
      "\n",
      "F1Score [0.8128291  0.20850202] \n",
      "\n",
      "\n",
      "\n",
      "Classification Report:\n",
      "\n",
      "              precision    recall  f1-score   support\n",
      "\n",
      "           0       0.69      0.99      0.81      5156\n",
      "           1       0.83      0.12      0.21      2593\n",
      "\n",
      "    accuracy                           0.70      7749\n",
      "   macro avg       0.76      0.55      0.51      7749\n",
      "weighted avg       0.74      0.70      0.61      7749\n",
      "\n",
      "\n",
      "\n",
      "Confusion Matrix:\n",
      "\n"
     ]
    },
    {
     "data": {
      "image/png": "[encoded data removed]",
      "text/plain": [
       "<Figure size 432x288 with 2 Axes>"
      ]
     },
     "metadata": {
      "needs_background": "light"
     },
     "output_type": "display_data"
    },
    {
     "name": "stdout",
     "output_type": "stream",
     "text": [
      "----------------------------------------------------------------------------------------------\n",
      "2nd Iteration ----- Training with 100%\n",
      "Hint: Here we usually test the trained data with a new dataset and we train with 100% of our data\n",
      "\n",
      "Accuracy Metrics:\n",
      "\n",
      "Accuracy 0.6941540843979869 \n",
      "\n",
      "Precision [0.68809074 0.82507289] \n",
      "\n",
      "Recall [0.98836307 0.10913999] \n",
      "\n",
      "F1Score [0.81133577 0.19277929] \n",
      "\n",
      "\n",
      "\n",
      "Classification Report:\n",
      "\n",
      "              precision    recall  f1-score   support\n",
      "\n",
      "           0       0.69      0.99      0.81      5156\n",
      "           1       0.83      0.11      0.19      2593\n",
      "\n",
      "    accuracy                           0.69      7749\n",
      "   macro avg       0.76      0.55      0.50      7749\n",
      "weighted avg       0.73      0.69      0.60      7749\n",
      "\n",
      "\n",
      "\n",
      "Confusion Matrix:\n",
      "\n"
     ]
    },
    {
     "data": {
      "image/png": "[encoded data removed]",
      "text/plain": [
       "<Figure size 432x288 with 2 Axes>"
      ]
     },
     "metadata": {
      "needs_background": "light"
     },
     "output_type": "display_data"
    }
   ],
   "source": [
    "run_model(model=\"regLog\", scaler=\"scale\", X=X, y=y, t_size=0.3)"
   ]
  },
  {
   "cell_type": "markdown",
   "metadata": {},
   "source": [
    "#### As we see the Logistic Regression with standard scaler is the best option\n",
    "We take into account accuracy as acc measure\n",
    "\n",
    "We selected the logistic regression over decision tree because our model overfits with 100% of data and log reg performance is better with 100%"
   ]
  }
 ],
 "metadata": {
  "kernelspec": {
   "display_name": "Python 3",
   "language": "python",
   "name": "python3"
  },
  "language_info": {
   "codemirror_mode": {
    "name": "ipython",
    "version": 3
   },
   "file_extension": ".py",
   "mimetype": "text/x-python",
   "name": "python",
   "nbconvert_exporter": "python",
   "pygments_lexer": "ipython3",
   "version": "3.7.4"
  }
 },
 "nbformat": 4,
 "nbformat_minor": 4
}
